{
 "cells": [
  {
   "cell_type": "markdown",
   "metadata": {},
   "source": [
    "---\n",
    "toc: true\n",
    "comments: true\n",
    "layout: notebook\n",
    "title: Week 3 CPT review\n",
    "description: false\n",
    "type: tangibles\n",
    "courses: { compsci: {week: 3} }\n",
    "---"
   ]
  },
  {
   "cell_type": "markdown",
   "metadata": {},
   "source": [
    "## Dante-RGB Image Adjsuter\n",
    "What I did: After our group met  with Mr. Mort he told me to include the hex values alongside the binary so it would be easier to understand. Since hex values are also related to RGB I added a feature to switch from the sliders to color wheels. The color wheels function the same as the sliders, the darker the color the higher the value. Something I could add is to the RGB color wheels I could add a circle indicating which part of the color wheel is selected. Also, I could add the binary and the hex value when switched to the color wheel mode. Some challenges that I faced were that originally the color wheels would load up but they would have no effect on the photo. I created a way to store the values that work in the same way as the binary sliders. My key commit was just adding the main code that uses the binary sliders and processes the image. Also another key commit was adding the RGB circles."
   ]
  },
  {
   "cell_type": "markdown",
   "metadata": {},
   "source": [
    "[Dante's Tangibles](https://dantea-tech.github.io/GLAD//2023/11/16/Binary.html)\n"
   ]
  },
  {
   "cell_type": "markdown",
   "metadata": {},
   "source": [
    "## Ashwin- ASCII Image Generator\n",
    "What Ashwin did: After our group met with Mr. Mort, he gave me some feed back on my Ascii Image generator. At first my generator lacked image scalability to be able to process different sized images. I then implemented these changes into my code by adding sliders. This way the scale and detail of the ascii image can be determined by the user. One issue that we had as a group, was our commits always having merge conflicts. This led to many problems when alot of changes would just randomly be deleted."
   ]
  },
  {
   "cell_type": "markdown",
   "metadata": {},
   "source": [
    "[Ashwin's Tangibles](https://dantea-tech.github.io/GLAD//2023/11/27/Ascii.html)"
   ]
  },
  {
   "cell_type": "markdown",
   "metadata": {},
   "source": [
    "## Lincoln- Binary to Decimal Converter Game\n",
    "What Lincoln did: After we met for our live review, I realized that I had a good idea going and it was fully functional vut I needed some sort of way for the audience to learn what a binary numbereven is so I added a hint button which would also qualify as my key commit.\n",
    "\n",
    "1. Interactive Binary Game:\n",
    "- Purpose: Engaging users in guessing decimal equivalents of binary numbers showcases the practical application of binary logic in a playful and interactive manner.\n",
    "- Value: Offers users a hands-on experience to reinforce their understanding of binary-to-decimal conversion, a fundamental concept in computer science.\n",
    "\n",
    "2. Visual and Explanatory Hint Button:\n",
    "- Purpose: The \"Hint\" button provides visual aids and explanatory text, aiding users in comprehending the conversion process, thereby emphasizing the educational value of the project.\n",
    "- Value: Illustrates binary logic by providing additional educational support, aligning with the project's intent to assist users in grasping the underlying concepts.\n",
    "\n",
    "3. Meeting CPT Requirements:\n",
    "- User Engagement: The interactive game engages users in actively participating, contributing to the user-centered design aspect.\n",
    "- Educational Support: The provision of hints aligns with the educational component outlined in CPT requirements, ensuring users receive guidance for understanding binary logic.\n",
    "- Functional Demonstration: The code functions as intended, demonstrating the conversion process, meeting the requirement for demonstrating functionality related to binary-to-decimal conversion.\n",
    "\n",
    "4. HTML Structure: The HTML file sets up the structure of the game, providing elements for displaying the binary number, input field for guesses, buttons, and containers for visual elements.\n",
    "\n",
    "5. JavaScript Logic:\n",
    "- Random Binary Generation: The generateRandomBinary() function generates a random 8-bit binary number.\n",
    "- Display Binary: It displays the generated binary number as both text and visually in the form of binary digits.\n",
    "- Starting the Game: When the user clicks on the \"Check Guess\" button or the game area, it initiates the startRide() function.\n",
    "Game Logic:\n",
    "- If the game hasn't started (rideStarted = false) Once the animation completes or if the game has started, it checks the user's guess using the checkGuess() function.\n",
    "- It validates the user input and compares it against the decimal equivalent of the randomly generated binary.\n",
    "- If the guess is correct, it triggers a success message, updates the score (if implemented), animates the carnival cart, generates a new binary number, and resets the game for the next round.\n",
    "- If the guess is incorrect, it provides the correct answer and prompts the user to try again.\n",
    "\n",
    "6. Hint Functionality: \n",
    "- The \"Hint\" button, when clicked, reveals an explanatory hint regarding binary-to-decimal conversion, utilizing both textual and visual aids to assist users in understanding the conversion process.\n",
    "- User Interaction: Users engage by inputting decimal guesses, receiving immediate feedback on correctness, and having access to educational hints to aid in comprehension."
   ]
  },
  {
   "cell_type": "markdown",
   "metadata": {},
   "source": [
    "[Lincoln Tangibles](https://dantea-tech.github.io/GLAD//2023/11/30/binary-decimal.html)"
   ]
  },
  {
   "cell_type": "markdown",
   "metadata": {},
   "source": [
    "[Lincoln's Video](https://clipchamp.com/watch/3dAmSQNwGxM)"
   ]
  },
  {
   "cell_type": "markdown",
   "metadata": {},
   "source": [
    "## Gurshawn- Text to Color(Steganography)\n",
    "How it works: A string is entered and each character is converted to 8 bit binary(groups of 3) and converts the binary string into rgb values which are displayed.\n",
    "Challenges: Some challenges and errors I faced were the colors showing up in extremely dull colors. This was because when using only 1 byte which would only have 2 levels, so the colors are all mostly black or white.\n",
    "Something to add: Something I can add to the feature is have a way to decrypt the colors in the images to display a message. For the encryption part I can add a default display color to represent letters if the string’s length isn’t divisible by 3. This way the whole string can be accounted for.\n",
    " Binary Logic usage and Algorithms: The code uses binary and algorithms by converting text characters into their binary representations and then grouping these binary values to form RGB color representations, which are then displayed using HTML canvas elements to visualize the converted text as a sequence of colors.\n",
    "  Key commit: https://github.com/DanteA-tech/GLAD/commit/43e41b3d44c0988c416dd5975503396963069e61"
   ]
  },
  {
   "cell_type": "markdown",
   "metadata": {},
   "source": [
    "[Gurshawn Tangibles](https://dantea-tech.github.io/GLAD//2023/11/15/txtcol.html)"
   ]
  }
 ],
 "metadata": {
  "language_info": {
   "name": "python"
  }
 },
 "nbformat": 4,
 "nbformat_minor": 2
}
