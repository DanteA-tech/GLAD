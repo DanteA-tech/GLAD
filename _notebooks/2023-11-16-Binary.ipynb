{
 "cells": [
  {
   "cell_type": "code",
   "execution_count": 2,
   "metadata": {},
   "outputs": [
    {
     "data": {
      "application/javascript": "/**\n * Convert a binary number to its decimal equivalent.\n * @param {string} binary - Binary number represented as a string.\n * @returns {number} - Decimal representation of the binary number.\n * @throws {Error} - Throws an error for an invalid binary number.\n */\nfunction binaryToDecimal(binary) {\n  const isValidBinary = /^[01]+$/.test(binary);\n  if (!isValidBinary) {\n    throw new Error('Invalid binary number. Please provide a string containing only 0s and 1s.');\n  }\n  return parseInt(binary, 2);\n}\n\n/**\n * Convert a decimal number to its binary equivalent.\n * @param {number} decimal - Decimal number.\n * @returns {string} - Binary representation of the decimal number.\n * @throws {Error} - Throws an error for an invalid decimal number.\n */\nfunction decimalToBinary(decimal) {\n  if (!Number.isInteger(decimal) || decimal < 0) {\n    throw new Error('Invalid decimal number. Please provide a non-negative integer.');\n  }\n  return (decimal >>> 0).toString(2);\n}\n\n// Example usage:\nconst binaryNumber = '1010';\nconst decimalNumber = 15;\n\ntry {\n  const convertedToDecimal = binaryToDecimal(binaryNumber);\n  console.log(`Binary ${binaryNumber} is equivalent to Decimal: ${convertedToDecimal}`);\n} catch (error) {\n  console.error(error.message);\n}\n\ntry {\n  const convertedToBinary = decimalToBinary(decimalNumber);\n  console.log(`Decimal ${decimalNumber} is equivalent to Binary: ${convertedToBinary}`);\n} catch (error) {\n  console.error(error.message);\n}\n",
      "text/plain": [
       "<IPython.core.display.Javascript object>"
      ]
     },
     "metadata": {},
     "output_type": "display_data"
    }
   ],
   "source": [
    "%%js\n",
    "/**\n",
    " * Convert a binary number to its decimal equivalent.\n",
    " * @param {string} binary - Binary number represented as a string.\n",
    " * @returns {number} - Decimal representation of the binary number.\n",
    " * @throws {Error} - Throws an error for an invalid binary number.\n",
    " */\n",
    "function binaryToDecimal(binary) {\n",
    "  const isValidBinary = /^[01]+$/.test(binary);\n",
    "  if (!isValidBinary) {\n",
    "    throw new Error('Invalid binary number. Please provide a string containing only 0s and 1s.');\n",
    "  }\n",
    "  return parseInt(binary, 2);\n",
    "}\n",
    "\n",
    "/**\n",
    " * Convert a decimal number to its binary equivalent.\n",
    " * @param {number} decimal - Decimal number.\n",
    " * @returns {string} - Binary representation of the decimal number.\n",
    " * @throws {Error} - Throws an error for an invalid decimal number.\n",
    " */\n",
    "function decimalToBinary(decimal) {\n",
    "  if (!Number.isInteger(decimal) || decimal < 0) {\n",
    "    throw new Error('Invalid decimal number. Please provide a non-negative integer.');\n",
    "  }\n",
    "  return (decimal >>> 0).toString(2);\n",
    "}\n",
    "\n",
    "// Example usage:\n",
    "const binaryNumber = '1010';\n",
    "const decimalNumber = 15;\n",
    "\n",
    "try {\n",
    "  const convertedToDecimal = binaryToDecimal(binaryNumber);\n",
    "  console.log(`Binary ${binaryNumber} is equivalent to Decimal: ${convertedToDecimal}`);\n",
    "} catch (error) {\n",
    "  console.error(error.message);\n",
    "}\n",
    "\n",
    "try {\n",
    "  const convertedToBinary = decimalToBinary(decimalNumber);\n",
    "  console.log(`Decimal ${decimalNumber} is equivalent to Binary: ${convertedToBinary}`);\n",
    "} catch (error) {\n",
    "  console.error(error.message);\n",
    "}"
   ]
  }
 ],
 "metadata": {
  "kernelspec": {
   "display_name": "Python 3",
   "language": "python",
   "name": "python3"
  },
  "language_info": {
   "codemirror_mode": {
    "name": "ipython",
    "version": 3
   },
   "file_extension": ".py",
   "mimetype": "text/x-python",
   "name": "python",
   "nbconvert_exporter": "python",
   "pygments_lexer": "ipython3",
   "version": "3.10.12"
  }
 },
 "nbformat": 4,
 "nbformat_minor": 2
}
