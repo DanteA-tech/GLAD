{
 "cells": [
  {
   "cell_type": "markdown",
   "metadata": {},
   "source": [
    "---\n",
    "toc: true\n",
    "comments: true\n",
    "layout: \n",
    "title: Binary\n",
    "description: false\n",
    "type: hacks\n",
    "courses: { compsci: {week: 1} }\n",
    "---"
   ]
  },
  {
   "cell_type": "code",
   "execution_count": 43,
   "metadata": {
    "vscode": {
     "languageId": "javascript"
    }
   },
   "outputs": [
    {
     "ename": "SyntaxError",
     "evalue": "leading zeros in decimal integer literals are not permitted; use an 0o prefix for octal integers (2592221860.py, line 2)",
     "output_type": "error",
     "traceback": [
      "\u001b[0;36m  File \u001b[0;32m\"/tmp/ipykernel_27342/2592221860.py\"\u001b[0;36m, line \u001b[0;32m2\u001b[0m\n\u001b[0;31m    if (!/^[01]+$/.test(binary)) {\u001b[0m\n\u001b[0m            ^\u001b[0m\n\u001b[0;31mSyntaxError\u001b[0m\u001b[0;31m:\u001b[0m leading zeros in decimal integer literals are not permitted; use an 0o prefix for octal integers\n"
     ]
    }
   ],
   "source": [
    "function binaryToDecimal(binary) {\n",
    "  if (!/^[01]+$/.test(binary)) {\n",
    "    throw new Error('Invalid binary number. Please provide a valid binary string.');\n",
    "  }\n",
    "  return parseInt(binary, 2);\n",
    "}\n",
    "\n",
    "function decimalToBinary(decimal) {\n",
    "  if (!Number.isInteger(decimal) || decimal < 0) {\n",
    "    throw new Error('Invalid decimal number. Please provide a non-negative integer.');\n",
    "  }\n",
    "  return decimal.toString(2);\n",
    "}\n",
    "\n",
    "// Taking user input for binary and decimal numbers\n",
    "const readline = require('readline').createInterface({\n",
    "  input: process.stdin,\n",
    "  output: process.stdout\n",
    "});\n",
    "\n",
    "readline.question('Enter a binary number: ', (binaryNumber) => {\n",
    "  try {\n",
    "    const convertedToDecimal = binaryToDecimal(binaryNumber);\n",
    "    console.log(`Binary ${binaryNumber} is equivalent to Decimal: ${convertedToDecimal}`);\n",
    "  } catch (error) {\n",
    "    console.error(error.message);\n",
    "  }\n",
    "  readline.close();\n",
    "});\n",
    "\n",
    "readline.question('Enter a decimal number: ', (decimalNumber) => {\n",
    "  decimalNumber = parseInt(decimalNumber);\n",
    "  try {\n",
    "    const convertedToBinary = decimalToBinary(decimalNumber);\n",
    "    console.log(`Decimal ${decimalNumber} is equivalent to Binary: ${convertedToBinary}`);\n",
    "  } catch (error) {\n",
    "    console.error(error.message);\n",
    "  }\n",
    "  readline.close();\n",
    "});"
   ]
  }
 ],
 "metadata": {
  "kernelspec": {
   "display_name": "Python 3",
   "language": "python",
   "name": "python3"
  },
  "language_info": {
   "codemirror_mode": {
    "name": "ipython",
    "version": 3
   },
   "file_extension": ".py",
   "mimetype": "text/x-python",
   "name": "python",
   "nbconvert_exporter": "python",
   "pygments_lexer": "ipython3",
   "version": "3.10.12"
  }
 },
 "nbformat": 4,
 "nbformat_minor": 2
}
