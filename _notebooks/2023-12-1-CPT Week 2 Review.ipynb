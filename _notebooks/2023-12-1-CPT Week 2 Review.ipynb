{
 "cells": [
  {
   "cell_type": "markdown",
   "metadata": {},
   "source": [
    "---\n",
    "toc: true\n",
    "comments: true\n",
    "layout: notebook\n",
    "title: Week 2 CPT review\n",
    "description: false\n",
    "type: tangibles\n",
    "courses: { compsci: {week: 2} }\n",
    "---"
   ]
  },
  {
   "cell_type": "markdown",
   "metadata": {},
   "source": [
    "## Dante-RGB Image Adjsuter\n",
    "What I did: After our group met  with Mr. Mort he told me to include the hex values alongside the binary so it would be easier to understand. Since hex values are also related to RGB I added a feature to switch from the sliders to color wheels. The color wheels function the same as the sliders, the darker the color the higher the value. Something I could add is to the RGB color wheels I could add a circle indicating which part of the color wheel is selected. Also, I could add the binary and the hex value when switched to the color wheel mode. Some challenges that I faced were that originally the color wheels would load up but they would have no effect on the photo. I created a way to store the values that work in the same way as the binary sliders."
   ]
  },
  {
   "cell_type": "markdown",
   "metadata": {},
   "source": [
    "[Dante's Tangibles](https://dantea-tech.github.io/GLAD//2023/11/16/Binary.html)\n"
   ]
  },
  {
   "cell_type": "markdown",
   "metadata": {},
   "source": [
    "## Ashwin- ASCII Image Generator\n",
    "What Ashwin did: After our group met with Mr. Mort, he gave me some feed back on my Ascii Image generator. At first my generator lacked image scalability to be able to process different sized images. I then implemented these changes into my code by adding sliders. This way the scale and detail of the ascii image can be determined by the user. One issue that we had as a group, was our commits always having merge conflicts. This led to many problems when alot of changes would just randomly be deleted."
   ]
  },
  {
   "cell_type": "markdown",
   "metadata": {},
   "source": [
    "[Ashwin's Tangibles](https://dantea-tech.github.io/GLAD//2023/11/27/Ascii.html)"
   ]
  },
  {
   "cell_type": "markdown",
   "metadata": {},
   "source": [
    "## Lincoln- Binary to Decimal Converter Game\n",
    "What Lincoln did: After we met for our live review, I realized that a stright up converter would not work because the user would not actually learn how to do the conversions them selves and it would be quite frankly useless. Frome there progress was definitley made on this specific project as I had to essentially re-vamp it, the new model is more or less like a guessing game, it gives a randomly gernerated binary number every time you refresh the page, and the user has to guess what its decimal version is. My next step is to have instructions specific to each binary number on how to convert it if the user gets it wrong, I may also do a decimal-binary guessing game as well. My key commit was actually making the decimal to binary converter before changing it inot a guessing game as that took the most work."
   ]
  },
  {
   "cell_type": "markdown",
   "metadata": {},
   "source": [
    "[Lincoln Tangibles](https://dantea-tech.github.io/GLAD//2023/11/30/binary-decimal.html)"
   ]
  },
  {
   "cell_type": "markdown",
   "metadata": {},
   "source": [
    "## Gurshawn- Text to Color(Steganography)\n",
    "How it works: A string is entered and each character is converted to 8 bit binary(groups of 3) and converts the binary string into rgb values which are displayed.\n",
    "Challenges: Some challenges and errors I faced were the colors showing up in extremely dull colors. This was because when using only 1 byte which would only have 2 levels, so the colors are all mostly black or white.\n",
    "Something to add: Something I can add to the feature is have a way to decrypt the colors in the images to display a message. For the encryption part I can add a default display color to represent letters if the string’s length isn’t divisible by 3. This way the whole string can be accounted for.\n",
    " Binary Logic usage and Algorithms: The code uses binary and algorithms by converting text characters into their binary representations and then grouping these binary values to form RGB color representations, which are then displayed using HTML canvas elements to visualize the converted text as a sequence of colors."
   ]
  },
  {
   "cell_type": "markdown",
   "metadata": {},
   "source": [
    "[Gurshawn Tangibles](https://dantea-tech.github.io/GLAD//2023/11/15/txtcol.html)"
   ]
  }
 ],
 "metadata": {
  "language_info": {
   "name": "python"
  }
 },
 "nbformat": 4,
 "nbformat_minor": 2
}
