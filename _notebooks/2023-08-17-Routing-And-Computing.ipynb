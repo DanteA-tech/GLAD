{
 "cells": [
  {
   "cell_type": "markdown",
   "metadata": {},
   "source": [
    "---\n",
    "toc: false\n",
    "comments: true\n",
    "layout: notebook\n",
    "title: IPYNB Table, Code\n",
    "description: Team teach on routing and computing \n",
    "courses: { compsci: {week: 1} }\n",
    "type: hacks\n",
    "---"
   ]
  },
  {
   "cell_type": "markdown",
   "metadata": {},
   "source": [
    "## What is routing?"
   ]
  },
  {
   "cell_type": "markdown",
   "metadata": {},
   "source": [
    "## Fault Tolerance\n",
    "The Internet is fault tolerant and has been made to withstand errors or problems that may occur. It does this by using redundancy. Redundancy is the inclusion of extra components in order to mitigate the failure of one part of the system. One method of to achieve this is having multiple paths between connected devices allowing transfers to have alternative routes. If a route fails the data will be sent down a different path. Fault tolerance allows users to use a network even if there are  system failures."
   ]
  },
  {
   "cell_type": "markdown",
   "metadata": {},
   "source": [
    "## Popcorn Hack #2\n",
    "What would make this network fault-tolerant. \n",
    "Insert image 4.2 video 2 3:57"
   ]
  },
  {
   "cell_type": "markdown",
   "metadata": {},
   "source": [
    "## What is Computing?"
   ]
  }
 ],
 "metadata": {
  "language_info": {
   "name": "python"
  },
  "orig_nbformat": 4
 },
 "nbformat": 4,
 "nbformat_minor": 2
}
