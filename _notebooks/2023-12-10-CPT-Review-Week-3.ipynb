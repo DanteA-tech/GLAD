{
 "cells": [
  {
   "cell_type": "markdown",
   "metadata": {},
   "source": [
    "---\n",
    "toc: true\n",
    "comments: true\n",
    "layout: notebook\n",
    "title: Week 3 CPT review\n",
    "description: false\n",
    "type: tangibles\n",
    "courses: { compsci: {week: 3} }\n",
    "---"
   ]
  },
  {
   "cell_type": "markdown",
   "metadata": {},
   "source": [
    "## Lincoln- Binary to Decimal Converter Game\n",
    "What Lincoln did: After we met for our live review, I realized that I had a good idea going and it was fully functional vut I needed some sort of way for the audience to learn what a binary numbereven is so I added a hint button which would also qualify as my key commit.\n",
    "\n",
    "1. Interactive Binary Game:\n",
    "- Purpose: Engaging users in guessing decimal equivalents of binary numbers showcases the practical application of binary logic in a playful and interactive manner.\n",
    "- Value: Offers users a hands-on experience to reinforce their understanding of binary-to-decimal conversion, a fundamental concept in computer science.\n",
    "\n",
    "2. Visual and Explanatory Hint Button:\n",
    "- Purpose: The \"Hint\" button provides visual aids and explanatory text, aiding users in comprehending the conversion process, thereby emphasizing the educational value of the project.\n",
    "- Value: Illustrates binary logic by providing additional educational support, aligning with the project's intent to assist users in grasping the underlying concepts.\n",
    "\n",
    "3. Meeting CPT Requirements:\n",
    "- User Engagement: The interactive game engages users in actively participating, contributing to the user-centered design aspect.\n",
    "- Educational Support: The provision of hints aligns with the educational component outlined in CPT requirements, ensuring users receive guidance for understanding binary logic.\n",
    "- Functional Demonstration: The code functions as intended, demonstrating the conversion process, meeting the requirement for demonstrating functionality related to binary-to-decimal conversion.\n",
    "\n",
    "4. HTML Structure: The HTML file sets up the structure of the game, providing elements for displaying the binary number, input field for guesses, buttons, and containers for visual elements.\n",
    "\n",
    "5. JavaScript Logic:\n",
    "- Random Binary Generation: The generateRandomBinary() function generates a random 8-bit binary number.\n",
    "- Display Binary: It displays the generated binary number as both text and visually in the form of binary digits.\n",
    "- Starting the Game: When the user clicks on the \"Check Guess\" button or the game area, it initiates the startRide() function.\n",
    "Game Logic:\n",
    "- If the game hasn't started (rideStarted = false) Once the animation completes or if the game has started, it checks the user's guess using the checkGuess() function.\n",
    "- It validates the user input and compares it against the decimal equivalent of the randomly generated binary.\n",
    "- If the guess is correct, it triggers a success message, updates the score (if implemented), animates the carnival cart, generates a new binary number, and resets the game for the next round.\n",
    "- If the guess is incorrect, it provides the correct answer and prompts the user to try again.\n",
    "\n",
    "6. Hint Functionality: \n",
    "- The \"Hint\" button, when clicked, reveals an explanatory hint regarding binary-to-decimal conversion, utilizing both textual and visual aids to assist users in understanding the conversion process.\n",
    "- User Interaction: Users engage by inputting decimal guesses, receiving immediate feedback on correctness, and having access to educational hints to aid in comprehension."
   ]
  },
  {
   "cell_type": "markdown",
   "metadata": {},
   "source": [
    "[Lincoln's Video](https://clipchamp.com/watch/3dAmSQNwGxM)"
   ]
  },
  {
   "cell_type": "markdown",
   "metadata": {},
   "source": [
    "[Lincoln Tangibles](https://dantea-tech.github.io/GLAD//2023/11/30/binary-decimal.html)"
   ]
  },
  {
   "cell_type": "markdown",
   "metadata": {},
   "source": [
    "## Ashwin - ASS KEY image generator\n",
    "What I did: After the week two review, the feedback I got from Mr. Mort and Sergi was to add some info about ascii and to explain to the user what exactly my feature is. I added a description about ascii at the top, and I also implemented a feature which allows you to add color to the image. This is controled by a toggle switch so the user can decide what they want. My feature is educational as it lets a user change any image they want into ascii characters, and do some modifications to them."
   ]
  },
  {
   "cell_type": "markdown",
   "metadata": {},
   "source": [
    "[Ashwins Video](https://youtu.be/87nsno-dlis)\n",
    "\n",
    "[Ashwins Tangibles](https://dantea-tech.github.io/GLAD//2023/11/27/Ascii.html)"
   ]
  }
 ],
 "metadata": {
  "language_info": {
   "name": "python"
  }
 },
 "nbformat": 4,
 "nbformat_minor": 2
}
